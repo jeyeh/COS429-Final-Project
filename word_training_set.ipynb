{
 "cells": [
  {
   "cell_type": "code",
   "execution_count": 1,
   "id": "ba717127-35b6-497e-9667-d528da1b9455",
   "metadata": {},
   "outputs": [],
   "source": [
    "## GENERATES WORD LEVEL TRAINING SET ##"
   ]
  },
  {
   "cell_type": "code",
   "execution_count": 2,
   "id": "67d380d7-b2d9-46c8-9509-33aa6e7e1a9b",
   "metadata": {
    "tags": []
   },
   "outputs": [],
   "source": [
    "from data_utils import get_images, get_image_shapes, get_sorted_img_names, rename_imgs\n",
    "from char_extraction import plot_list, get_adaptive_line_contours, get_lines, get_adaptive_words\n",
    "import matplotlib.pyplot as plt\n",
    "import cv2\n",
    "import pandas as pd\n",
    "import os"
   ]
  },
  {
   "cell_type": "code",
   "execution_count": 3,
   "id": "c577fa3b-541e-49f1-8762-ab586b6ad24e",
   "metadata": {},
   "outputs": [],
   "source": [
    "# UPDATE TO YOUR PERSONAL FILE PATH\n",
    "WORD_PATH = 'C:\\\\Users\\\\smmal\\\\OneDrive\\\\Documents\\\\school\\\\2022-2023\\\\spring\\\\COS429\\\\words' # shayna path\n",
    "SOURCE_PATH = 'C:\\\\Users\\\\smmal\\\\OneDrive\\\\Documents\\\\school\\\\2022-2023\\\\spring\\\\COS429\\\\ground_truths'"
   ]
  },
  {
   "cell_type": "code",
   "execution_count": 4,
   "id": "8e0d9f93-8c35-4b1c-8d68-492fe5dbe61b",
   "metadata": {},
   "outputs": [],
   "source": [
    "# returns list of word images\n",
    "def get_all_words(img):\n",
    "    _, _, _, _, contours = get_adaptive_line_contours(img)\n",
    "    lines = get_lines(img, contours)\n",
    "    words = get_adaptive_words(lines)\n",
    "    return words"
   ]
  },
  {
   "cell_type": "code",
   "execution_count": 5,
   "id": "7c950a9a-bd45-422a-a047-b9f4749e6a4e",
   "metadata": {},
   "outputs": [],
   "source": [
    "# do the ground truth for a word list\n",
    "def ground_truth(word_list, word_path, book, page_num, df=None, index=0):\n",
    "    \n",
    "    if not os.path.exists(word_path + '\\\\' + book + '\\\\' + str(page_num)):\n",
    "        os.mkdir(word_path + '\\\\' + book + '\\\\' + str(page_num))\n",
    "    \n",
    "    if df is None:\n",
    "        df = pd.DataFrame(columns=['word_img', 'word'])\n",
    "    \n",
    "    for i, word in enumerate(word_list):\n",
    "        plt.figure(figsize=(2,2))\n",
    "        plt.imshow(word, cmap='gray')\n",
    "        plt.show()\n",
    "        \n",
    "        # get user input\n",
    "        w = input(\"Type the word, or / to skip, or /END to quit\")\n",
    "        if w == r'/':\n",
    "            continue\n",
    "\n",
    "        if w == '/END':\n",
    "            return df, word_list[i:], index + i\n",
    "            \n",
    "        word_name = book + '_' + str(page_num) + '_' + str(index+i) + '.jpg'\n",
    "        p = word_path + '\\\\' + book + '\\\\' + str(page_num) + '\\\\' + word_name\n",
    "\n",
    "\n",
    "        success = cv2.imwrite(p, word)\n",
    "        if not success:\n",
    "            print('image write failed')\n",
    "            return df, word_list[i:], index+i\n",
    "\n",
    "        df.loc[len(df.index)] = [word_name, w]\n",
    "        \n",
    "    return df, None, None"
   ]
  },
  {
   "cell_type": "code",
   "execution_count": 6,
   "id": "778902f5-3fbf-4599-bf3e-15a87cd76ed6",
   "metadata": {},
   "outputs": [],
   "source": [
    "img= cv2.imread(SOURCE_PATH + r'\\emma\\emma_005.jpg', cv2.IMREAD_GRAYSCALE)"
   ]
  },
  {
   "cell_type": "code",
   "execution_count": 7,
   "id": "a89432fa-cee5-4bbd-8d4b-47d3863aff20",
   "metadata": {},
   "outputs": [],
   "source": [
    "word_list = get_all_words(img)"
   ]
  },
  {
   "cell_type": "code",
   "execution_count": 10,
   "id": "81d99fb2-9433-4551-b2da-cd3e0091eea6",
   "metadata": {},
   "outputs": [
    {
     "data": {
      "image/png": "[encoded data removed]",
      "text/plain": [
       "<Figure size 200x200 with 1 Axes>"
      ]
     },
     "metadata": {},
     "output_type": "display_data"
    },
    {
     "name": "stdin",
     "output_type": "stream",
     "text": [
      "Type the word, or / to skip, or /END to quit /\n"
     ]
    },
    {
     "data": {
      "image/png": "[encoded data removed]",
      "text/plain": [
       "<Figure size 200x200 with 1 Axes>"
      ]
     },
     "metadata": {},
     "output_type": "display_data"
    },
    {
     "name": "stdin",
     "output_type": "stream",
     "text": [
      "Type the word, or / to skip, or /END to quit /\n"
     ]
    },
    {
     "data": {
      "image/png": "[encoded data removed]",
      "text/plain": [
       "<Figure size 200x200 with 1 Axes>"
      ]
     },
     "metadata": {},
     "output_type": "display_data"
    },
    {
     "name": "stdin",
     "output_type": "stream",
     "text": [
      "Type the word, or / to skip, or /END to quit always\n"
     ]
    },
    {
     "data": {
      "image/png": "[encoded data removed]",
      "text/plain": [
       "<Figure size 200x200 with 1 Axes>"
      ]
     },
     "metadata": {},
     "output_type": "display_data"
    },
    {
     "name": "stdin",
     "output_type": "stream",
     "text": [
      "Type the word, or / to skip, or /END to quit /END\n"
     ]
    }
   ],
   "source": [
    "book_title = 'emma'\n",
    "page = '005'\n",
    "df, remaining_words, index = ground_truth(word_list, WORD_PATH, book_title, page)"
   ]
  },
  {
   "cell_type": "code",
   "execution_count": null,
   "id": "3d2408c8-b9f2-4c7f-9929-db6acadb57da",
   "metadata": {},
   "outputs": [
    {
     "data": {
      "image/png": "[encoded data removed]",
      "text/plain": [
       "<Figure size 200x200 with 1 Axes>"
      ]
     },
     "metadata": {},
     "output_type": "display_data"
    },
    {
     "name": "stdin",
     "output_type": "stream",
     "text": [
      "Type the word, or / to skip, or /END to quit did\n"
     ]
    },
    {
     "data": {
      "image/png": "[encoded data removed]",
      "text/plain": [
       "<Figure size 200x200 with 1 Axes>"
      ]
     },
     "metadata": {},
     "output_type": "display_data"
    }
   ],
   "source": [
    "# do the remaining words\n",
    "df, remaining_words, index = ground_truth(remaining_words, WORD_PATH, book_title, page, df=df, index=index)"
   ]
  },
  {
   "cell_type": "code",
   "execution_count": null,
   "id": "ee7eb951-8a15-41bd-8293-8374e9b7acc1",
   "metadata": {},
   "outputs": [],
   "source": [
    "print(len(df))\n",
    "df.tail(20)"
   ]
  },
  {
   "cell_type": "code",
   "execution_count": null,
   "id": "975a6d2a-5480-4547-824c-ca6d15da2cd7",
   "metadata": {},
   "outputs": [],
   "source": [
    "df.to_excel(f'C:\\\\Users\\\\smmal\\\\OneDrive\\\\Documents\\\\school\\\\2022-2023\\\\spring\\\\COS429\\\\{book_title}_{page}.xlsx')"
   ]
  },
  {
   "cell_type": "code",
   "execution_count": null,
   "id": "718b0f49-ad34-4250-b235-cc8735a44d31",
   "metadata": {},
   "outputs": [],
   "source": [
    "lines, _, _, _, contours = get_line_boxes(img)\n",
    "lines = get_lines(img, contours)\n",
    "plot_list(lines)"
   ]
  }
 ],
 "metadata": {
  "kernelspec": {
   "display_name": "cos429",
   "language": "python",
   "name": "cos429"
  },
  "language_info": {
   "codemirror_mode": {
    "name": "ipython",
    "version": 3
   },
   "file_extension": ".py",
   "mimetype": "text/x-python",
   "name": "python",
   "nbconvert_exporter": "python",
   "pygments_lexer": "ipython3",
   "version": "3.7.16"
  }
 },
 "nbformat": 4,
 "nbformat_minor": 5
}
